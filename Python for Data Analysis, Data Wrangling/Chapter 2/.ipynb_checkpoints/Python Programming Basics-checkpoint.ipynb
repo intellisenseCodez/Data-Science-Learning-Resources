{
 "cells": [
  {
   "cell_type": "markdown",
   "id": "ae16facd",
   "metadata": {},
   "source": [
    "# Python Language Basics, IPython, and Jupyter Notebooks"
   ]
  },
  {
   "cell_type": "markdown",
   "id": "548de5a3",
   "metadata": {},
   "source": [
    "## Ipython and Jupyter Notebooks"
   ]
  },
  {
   "cell_type": "code",
   "execution_count": 1,
   "id": "8474de09",
   "metadata": {},
   "outputs": [
    {
     "name": "stdout",
     "output_type": "stream",
     "text": [
      "Hello, World\n"
     ]
    }
   ],
   "source": [
    "print(\"Hello, World\")"
   ]
  },
  {
   "cell_type": "markdown",
   "id": "d46781da",
   "metadata": {},
   "source": [
    "## Tab Completion"
   ]
  },
  {
   "cell_type": "code",
   "execution_count": 1,
   "id": "8b7dea84",
   "metadata": {},
   "outputs": [],
   "source": [
    "b = [1, 2, 3]"
   ]
  },
  {
   "cell_type": "code",
   "execution_count": 2,
   "id": "835920e7",
   "metadata": {},
   "outputs": [],
   "source": [
    "b.reverse() # use tab for auto-completion"
   ]
  },
  {
   "cell_type": "code",
   "execution_count": 3,
   "id": "dff7e613",
   "metadata": {},
   "outputs": [
    {
     "name": "stdout",
     "output_type": "stream",
     "text": [
      "[3, 2, 1]\n"
     ]
    }
   ],
   "source": [
    "print(b)"
   ]
  },
  {
   "cell_type": "code",
   "execution_count": 13,
   "id": "10d8c53c",
   "metadata": {},
   "outputs": [],
   "source": [
    "def func_with_keywords(abra=1, abbra=2, abbbra=3):\n",
    "    return abra, abbra, abbbra"
   ]
  },
  {
   "cell_type": "code",
   "execution_count": 14,
   "id": "b4818d73",
   "metadata": {},
   "outputs": [
    {
     "data": {
      "text/plain": [
       "(1, 2, 4)"
      ]
     },
     "execution_count": 14,
     "metadata": {},
     "output_type": "execute_result"
    }
   ],
   "source": [
    "func_with_keywords(abbbra=4)"
   ]
  },
  {
   "cell_type": "markdown",
   "id": "12fe252e",
   "metadata": {},
   "source": [
    "## Introspection\n",
    "Using a question mark (?) before or after a variable will display some general infor‐ mation about the object:"
   ]
  },
  {
   "cell_type": "code",
   "execution_count": 17,
   "id": "8c58c5f8",
   "metadata": {},
   "outputs": [],
   "source": [
    "b?"
   ]
  },
  {
   "cell_type": "code",
   "execution_count": 18,
   "id": "32b00619",
   "metadata": {},
   "outputs": [],
   "source": [
    "print?"
   ]
  },
  {
   "cell_type": "code",
   "execution_count": 19,
   "id": "601fc75b",
   "metadata": {},
   "outputs": [],
   "source": [
    "def add_numbers(a, b):\n",
    "    \"\"\"\n",
    "    Add two numbers together\n",
    "    \n",
    "    Returns\n",
    "    --------\n",
    "    the_sum : type of arguements\n",
    "    \"\"\"\n",
    "    return a + b"
   ]
  },
  {
   "cell_type": "code",
   "execution_count": 26,
   "id": "39eb404d",
   "metadata": {},
   "outputs": [],
   "source": [
    "add_numbers?"
   ]
  },
  {
   "cell_type": "code",
   "execution_count": 30,
   "id": "4d4a50de",
   "metadata": {},
   "outputs": [],
   "source": [
    "# display source code\n",
    "add_numbers??"
   ]
  },
  {
   "cell_type": "code",
   "execution_count": 31,
   "id": "01928e88",
   "metadata": {},
   "outputs": [],
   "source": [
    "import numpy as np"
   ]
  },
  {
   "cell_type": "code",
   "execution_count": 43,
   "id": "a807b088",
   "metadata": {},
   "outputs": [],
   "source": [
    "# use wildcard to show all matching namespace\n",
    "np.*load*?"
   ]
  },
  {
   "cell_type": "markdown",
   "id": "32d733c3",
   "metadata": {},
   "source": [
    "# Running a file %run command"
   ]
  },
  {
   "cell_type": "code",
   "execution_count": 44,
   "id": "7671e769",
   "metadata": {},
   "outputs": [],
   "source": [
    "%run test.py"
   ]
  },
  {
   "cell_type": "code",
   "execution_count": 45,
   "id": "8d0a50a0",
   "metadata": {},
   "outputs": [
    {
     "name": "stdout",
     "output_type": "stream",
     "text": [
      "1.4666666666666666\n"
     ]
    }
   ],
   "source": [
    "print(result)"
   ]
  },
  {
   "cell_type": "code",
   "execution_count": 46,
   "id": "a01d159c",
   "metadata": {},
   "outputs": [
    {
     "data": {
      "text/plain": [
       "5"
      ]
     },
     "execution_count": 46,
     "metadata": {},
     "output_type": "execute_result"
    }
   ],
   "source": [
    "a"
   ]
  },
  {
   "cell_type": "code",
   "execution_count": null,
   "id": "ccc4fb73",
   "metadata": {},
   "outputs": [],
   "source": [
    "# %load test.py\n",
    "def f(x, y, z):\n",
    "    return (x + y) / z\n",
    "\n",
    "\n",
    "a = 5\n",
    "b = 6\n",
    "c = 7.5\n",
    "\n",
    "result = f(a, b, c)\n"
   ]
  },
  {
   "cell_type": "code",
   "execution_count": 52,
   "id": "a77bc520",
   "metadata": {},
   "outputs": [
    {
     "name": "stderr",
     "output_type": "stream",
     "text": [
      "UsageError: Line magic function `%cpaste` not found.\n"
     ]
    }
   ],
   "source": [
    "%cpaste"
   ]
  },
  {
   "cell_type": "code",
   "execution_count": 53,
   "id": "60882388",
   "metadata": {},
   "outputs": [
    {
     "name": "stdout",
     "output_type": "stream",
     "text": [
      "36.1 µs ± 946 ns per loop (mean ± std. dev. of 7 runs, 10000 loops each)\n"
     ]
    }
   ],
   "source": [
    "a = np.random.randn(100,100)\n",
    "\n",
    "%timeit np.dot(a, a) "
   ]
  },
  {
   "cell_type": "code",
   "execution_count": 54,
   "id": "310eadd4",
   "metadata": {},
   "outputs": [
    {
     "data": {
      "text/plain": [
       "'/Users/macbook/Desktop/horlarDEV/Data Science/Python for Data Analysis, Data Wrangling/Chapter 2'"
      ]
     },
     "execution_count": 54,
     "metadata": {},
     "output_type": "execute_result"
    }
   ],
   "source": [
    "%pwd"
   ]
  },
  {
   "cell_type": "markdown",
   "id": "c7821e68",
   "metadata": {},
   "source": [
    "## Matplotlib Integration"
   ]
  },
  {
   "cell_type": "code",
   "execution_count": 56,
   "id": "37ccc40d",
   "metadata": {},
   "outputs": [],
   "source": [
    "%matplotlib inline"
   ]
  },
  {
   "cell_type": "code",
   "execution_count": 57,
   "id": "fdf3f5b2",
   "metadata": {},
   "outputs": [
    {
     "data": {
      "text/plain": [
       "[<matplotlib.lines.Line2D at 0x7fecff1e1fd0>]"
      ]
     },
     "execution_count": 57,
     "metadata": {},
     "output_type": "execute_result"
    },
    {
     "data": {
      "image/png": "[encoded data removed]",
      "text/plain": [
       "<Figure size 640x480 with 1 Axes>"
      ]
     },
     "metadata": {},
     "output_type": "display_data"
    }
   ],
   "source": [
    "import matplotlib.pyplot as plt\n",
    "\n",
    "plt.plot(np.random.randn(50).cumsum())"
   ]
  },
  {
   "cell_type": "markdown",
   "id": "08c059d5",
   "metadata": {},
   "source": [
    "## 2.3 Python Language Basics\n",
    "\n",
    "* Indentation, not braces\n",
    "* No need to be terminated by semi‐ colons.\n",
    "* Everything is an object\n",
    "* Comments using #\n",
    "* Function and object method calls\n",
    "* Variables and argument passing\n",
    "* Dynamic references, strong types\n",
    "* Attributes and methods"
   ]
  },
  {
   "cell_type": "code",
   "execution_count": 69,
   "id": "0a554364",
   "metadata": {},
   "outputs": [],
   "source": [
    "a = \"foo\""
   ]
  },
  {
   "cell_type": "code",
   "execution_count": 71,
   "id": "8aff1a04",
   "metadata": {},
   "outputs": [
    {
     "data": {
      "text/plain": [
       "<function str.upper()>"
      ]
     },
     "execution_count": 71,
     "metadata": {},
     "output_type": "execute_result"
    }
   ],
   "source": []
  },
  {
   "cell_type": "code",
   "execution_count": null,
   "id": "80d020a2",
   "metadata": {},
   "outputs": [],
   "source": []
  }
 ],
 "metadata": {
  "kernelspec": {
   "display_name": "Python 3 (ipykernel)",
   "language": "python",
   "name": "python3"
  },
  "language_info": {
   "codemirror_mode": {
    "name": "ipython",
    "version": 3
   },
   "file_extension": ".py",
   "mimetype": "text/x-python",
   "name": "python",
   "nbconvert_exporter": "python",
   "pygments_lexer": "ipython3",
   "version": "3.9.13"
  }
 },
 "nbformat": 4,
 "nbformat_minor": 5
}
